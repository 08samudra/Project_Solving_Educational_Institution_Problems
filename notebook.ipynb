{
 "cells": [
  {
   "cell_type": "markdown",
   "metadata": {},
   "source": [
    "# Proyek Akhir: Menyelesaikan Permasalahan Perusahaan Edutech"
   ]
  },
  {
   "cell_type": "markdown",
   "metadata": {},
   "source": [
    "- Nama: Yoga Samudra\n",
    "- Email: 08samudra@gmail.com\n",
    "- Id Dicoding: 08samudra"
   ]
  },
  {
   "cell_type": "markdown",
   "metadata": {},
   "source": [
    "## 1. Persiapan"
   ]
  },
  {
   "cell_type": "markdown",
   "metadata": {},
   "source": [
    "### 1.1 Menyiapkan library yang dibutuhkan"
   ]
  },
  {
   "cell_type": "code",
   "execution_count": 25,
   "metadata": {},
   "outputs": [],
   "source": [
    "import pandas as pd\n",
    "import numpy as np\n",
    "import matplotlib.pyplot as plt\n",
    "import seaborn as sns\n",
    "import sklearn\n",
    "import joblib\n",
    "from sklearn.model_selection import train_test_split\n",
    "from sklearn.preprocessing import StandardScaler, OneHotEncoder\n",
    "from sklearn.ensemble import RandomForestClassifier\n",
    "from sklearn.metrics import accuracy_score, classification_report\n",
    "from sklearn.preprocessing import LabelEncoder\n",
    "from sklearn.preprocessing import MinMaxScaler\n",
    "from sklearn.model_selection import train_test_split\n",
    "from sklearn.linear_model import LogisticRegression\n",
    "from sklearn.ensemble import RandomForestClassifier\n",
    "from sklearn.neighbors import KNeighborsClassifier\n",
    "from sklearn.metrics import classification_report, accuracy_score\n",
    "from sklearn.model_selection import GridSearchCV\n",
    "from sklearn.metrics import confusion_matrix, ConfusionMatrixDisplay\n",
    "from sklearn.metrics import accuracy_score, classification_report, confusion_matrix, ConfusionMatrixDisplay"
   ]
  },
  {
   "cell_type": "markdown",
   "metadata": {},
   "source": [
    "### 1.2 Menyiapkan data yang akan diguankan"
   ]
  },
  {
   "cell_type": "code",
   "execution_count": 2,
   "metadata": {},
   "outputs": [
    {
     "name": "stdout",
     "output_type": "stream",
     "text": [
      "Dimensi Data: (4424, 37)\n",
      "\n",
      "Info Dataset:\n",
      "<class 'pandas.core.frame.DataFrame'>\n",
      "RangeIndex: 4424 entries, 0 to 4423\n",
      "Data columns (total 37 columns):\n",
      " #   Column                                        Non-Null Count  Dtype  \n",
      "---  ------                                        --------------  -----  \n",
      " 0   Marital_status                                4424 non-null   int64  \n",
      " 1   Application_mode                              4424 non-null   int64  \n",
      " 2   Application_order                             4424 non-null   int64  \n",
      " 3   Course                                        4424 non-null   int64  \n",
      " 4   Daytime_evening_attendance                    4424 non-null   int64  \n",
      " 5   Previous_qualification                        4424 non-null   int64  \n",
      " 6   Previous_qualification_grade                  4424 non-null   float64\n",
      " 7   Nacionality                                   4424 non-null   int64  \n",
      " 8   Mothers_qualification                         4424 non-null   int64  \n",
      " 9   Fathers_qualification                         4424 non-null   int64  \n",
      " 10  Mothers_occupation                            4424 non-null   int64  \n",
      " 11  Fathers_occupation                            4424 non-null   int64  \n",
      " 12  Admission_grade                               4424 non-null   float64\n",
      " 13  Displaced                                     4424 non-null   int64  \n",
      " 14  Educational_special_needs                     4424 non-null   int64  \n",
      " 15  Debtor                                        4424 non-null   int64  \n",
      " 16  Tuition_fees_up_to_date                       4424 non-null   int64  \n",
      " 17  Gender                                        4424 non-null   int64  \n",
      " 18  Scholarship_holder                            4424 non-null   int64  \n",
      " 19  Age_at_enrollment                             4424 non-null   int64  \n",
      " 20  International                                 4424 non-null   int64  \n",
      " 21  Curricular_units_1st_sem_credited             4424 non-null   int64  \n",
      " 22  Curricular_units_1st_sem_enrolled             4424 non-null   int64  \n",
      " 23  Curricular_units_1st_sem_evaluations          4424 non-null   int64  \n",
      " 24  Curricular_units_1st_sem_approved             4424 non-null   int64  \n",
      " 25  Curricular_units_1st_sem_grade                4424 non-null   float64\n",
      " 26  Curricular_units_1st_sem_without_evaluations  4424 non-null   int64  \n",
      " 27  Curricular_units_2nd_sem_credited             4424 non-null   int64  \n",
      " 28  Curricular_units_2nd_sem_enrolled             4424 non-null   int64  \n",
      " 29  Curricular_units_2nd_sem_evaluations          4424 non-null   int64  \n",
      " 30  Curricular_units_2nd_sem_approved             4424 non-null   int64  \n",
      " 31  Curricular_units_2nd_sem_grade                4424 non-null   float64\n",
      " 32  Curricular_units_2nd_sem_without_evaluations  4424 non-null   int64  \n",
      " 33  Unemployment_rate                             4424 non-null   float64\n",
      " 34  Inflation_rate                                4424 non-null   float64\n",
      " 35  GDP                                           4424 non-null   float64\n",
      " 36  Status                                        4424 non-null   object \n",
      "dtypes: float64(7), int64(29), object(1)\n",
      "memory usage: 1.2+ MB\n",
      "None\n",
      "\n",
      "Preview Data:\n",
      "   Marital_status  Application_mode  Application_order  Course  \\\n",
      "0               1                17                  5     171   \n",
      "1               1                15                  1    9254   \n",
      "2               1                 1                  5    9070   \n",
      "3               1                17                  2    9773   \n",
      "4               2                39                  1    8014   \n",
      "\n",
      "   Daytime_evening_attendance  Previous_qualification  \\\n",
      "0                           1                       1   \n",
      "1                           1                       1   \n",
      "2                           1                       1   \n",
      "3                           1                       1   \n",
      "4                           0                       1   \n",
      "\n",
      "   Previous_qualification_grade  Nacionality  Mothers_qualification  \\\n",
      "0                         122.0            1                     19   \n",
      "1                         160.0            1                      1   \n",
      "2                         122.0            1                     37   \n",
      "3                         122.0            1                     38   \n",
      "4                         100.0            1                     37   \n",
      "\n",
      "   Fathers_qualification  ...  Curricular_units_2nd_sem_credited  \\\n",
      "0                     12  ...                                  0   \n",
      "1                      3  ...                                  0   \n",
      "2                     37  ...                                  0   \n",
      "3                     37  ...                                  0   \n",
      "4                     38  ...                                  0   \n",
      "\n",
      "   Curricular_units_2nd_sem_enrolled  Curricular_units_2nd_sem_evaluations  \\\n",
      "0                                  0                                     0   \n",
      "1                                  6                                     6   \n",
      "2                                  6                                     0   \n",
      "3                                  6                                    10   \n",
      "4                                  6                                     6   \n",
      "\n",
      "   Curricular_units_2nd_sem_approved  Curricular_units_2nd_sem_grade  \\\n",
      "0                                  0                        0.000000   \n",
      "1                                  6                       13.666667   \n",
      "2                                  0                        0.000000   \n",
      "3                                  5                       12.400000   \n",
      "4                                  6                       13.000000   \n",
      "\n",
      "   Curricular_units_2nd_sem_without_evaluations  Unemployment_rate  \\\n",
      "0                                             0               10.8   \n",
      "1                                             0               13.9   \n",
      "2                                             0               10.8   \n",
      "3                                             0                9.4   \n",
      "4                                             0               13.9   \n",
      "\n",
      "   Inflation_rate   GDP    Status  \n",
      "0             1.4  1.74   Dropout  \n",
      "1            -0.3  0.79  Graduate  \n",
      "2             1.4  1.74   Dropout  \n",
      "3            -0.8 -3.12  Graduate  \n",
      "4            -0.3  0.79  Graduate  \n",
      "\n",
      "[5 rows x 37 columns]\n"
     ]
    }
   ],
   "source": [
    "# Load dataset\n",
    "file_path = \"datasets/data.csv\"\n",
    "df = pd.read_csv(file_path, delimiter=';')\n",
    "\n",
    "# Menampilkan informasi dasar tentang dataset\n",
    "print(\"Dimensi Data:\", df.shape)\n",
    "print(\"\\nInfo Dataset:\")\n",
    "print(df.info())\n",
    "\n",
    "# Melihat beberapa data pertama\n",
    "print(\"\\nPreview Data:\")\n",
    "print(df.head())"
   ]
  },
  {
   "cell_type": "markdown",
   "metadata": {},
   "source": [
    "#### **Struktur Dataset**\n",
    "Dataset memiliki beberapa variabel yang dapat dikategorikan sebagai berikut:\n",
    "\n",
    "##### **1. Informasi Demografi**\n",
    "- `Marital_status` : Status pernikahan mahasiswa *(1 - single, 2 - married, dst.)*\n",
    "- `Nationality` : Kewarganegaraan mahasiswa *(1 - Portuguese, 2 - German, dst.)*\n",
    "- `Gender` : Jenis kelamin mahasiswa *(1 - male, 0 - female)*\n",
    "- `Age_at_enrollment` : Usia mahasiswa saat mendaftar *(Numerik)*\n",
    "- `Displaced` : Apakah mahasiswa merupakan orang yang terdampak *(1 - yes, 0 - no)*\n",
    "\n",
    "##### **2. Informasi Akademik**\n",
    "- `Application_mode` : Metode pendaftaran yang digunakan *(1 - 1st phase - general contingent, dst.)*\n",
    "- `Application_order` : Urutan aplikasi pendaftaran mahasiswa *(0 - pertama pilihan, 9 - pilihan terakhir)*\n",
    "- `Previous_qualification` : Pendidikan sebelumnya *(1 - Secondary education, dst.)*\n",
    "- `Previous_qualification_grade` : Nilai pendidikan sebelumnya *(Skala 0 - 200)*\n",
    "- `Admission_grade` : Nilai penerimaan mahasiswa *(Skala 0 - 200)*\n",
    "- `Course` : Jurusan yang diambil mahasiswa *(33 - Biofuel Production Technologies, dst.)*\n",
    "- `Daytime_evening_attendance` : Kelas pagi atau malam *(1 - daytime, 0 - evening)*\n",
    "- `Educational_special_needs` : Apakah mahasiswa memiliki kebutuhan khusus *(1 - yes, 0 - no)*\n",
    "\n",
    "##### **3. Informasi Ekonomi dan Sosial**\n",
    "- `Mothers_qualification` & `Fathers_qualification` : Pendidikan orang tua *(1 - Secondary Education, dst.)*\n",
    "- `Mothers_occupation` & `Fathers_occupation` : Pekerjaan orang tua *(0 - Student, dst.)*\n",
    "- `Debtor` : Apakah mahasiswa memiliki tunggakan *(1 - yes, 0 - no)*\n",
    "- `Tuition_fees_up_to_date` : Apakah pembayaran kuliah mahasiswa lancar *(1 - yes, 0 - no)*\n",
    "- `Scholarship_holder` : Apakah mahasiswa mendapatkan beasiswa *(1 - yes, 0 - no)*\n",
    "\n",
    "##### **4. Informasi Akademik Semesteran**\n",
    "- `Curricular_units_1st_sem_credited`, `Curricular_units_1st_sem_enrolled`, `Curricular_units_1st_sem_evaluations`, `Curricular_units_1st_sem_approved`, `Curricular_units_1st_sem_grade`, `Curricular_units_1st_sem_without_evaluations`\n",
    "- `Curricular_units_2nd_sem_credited`, `Curricular_units_2nd_sem_enrolled`, `Curricular_units_2nd_sem_evaluations`, `Curricular_units_2nd_sem_approved`, `Curricular_units_2nd_sem_grade`, `Curricular_units_2nd_sem_without_evaluations`\n",
    "\n",
    "##### **5. Indikator Ekonomi**\n",
    "- `Unemployment_rate` : Tingkat pengangguran di wilayah mahasiswa *(Persentase)*\n",
    "- `Inflation_rate` : Tingkat inflasi ekonomi saat mahasiswa mendaftar *(Persentase)*\n",
    "- `GDP` : Produk Domestik Bruto sebagai indikator ekonomi *(Numerik)*\n",
    "\n",
    "##### **6. Target Variabel**\n",
    "- `Status` : Status akhir mahasiswa *(Dropout, Enrolled, atau Graduate)*\n",
    "\n",
    "---"
   ]
  },
  {
   "cell_type": "markdown",
   "metadata": {},
   "source": [
    "### 1.3 Penanganan *Missing Values* dan Data Duplikat"
   ]
  },
  {
   "cell_type": "markdown",
   "metadata": {},
   "source": [
    "Cek *Missing Values*"
   ]
  },
  {
   "cell_type": "code",
   "execution_count": 3,
   "metadata": {},
   "outputs": [
    {
     "name": "stdout",
     "output_type": "stream",
     "text": [
      "Marital_status                                  0\n",
      "Application_mode                                0\n",
      "Application_order                               0\n",
      "Course                                          0\n",
      "Daytime_evening_attendance                      0\n",
      "Previous_qualification                          0\n",
      "Previous_qualification_grade                    0\n",
      "Nacionality                                     0\n",
      "Mothers_qualification                           0\n",
      "Fathers_qualification                           0\n",
      "Mothers_occupation                              0\n",
      "Fathers_occupation                              0\n",
      "Admission_grade                                 0\n",
      "Displaced                                       0\n",
      "Educational_special_needs                       0\n",
      "Debtor                                          0\n",
      "Tuition_fees_up_to_date                         0\n",
      "Gender                                          0\n",
      "Scholarship_holder                              0\n",
      "Age_at_enrollment                               0\n",
      "International                                   0\n",
      "Curricular_units_1st_sem_credited               0\n",
      "Curricular_units_1st_sem_enrolled               0\n",
      "Curricular_units_1st_sem_evaluations            0\n",
      "Curricular_units_1st_sem_approved               0\n",
      "Curricular_units_1st_sem_grade                  0\n",
      "Curricular_units_1st_sem_without_evaluations    0\n",
      "Curricular_units_2nd_sem_credited               0\n",
      "Curricular_units_2nd_sem_enrolled               0\n",
      "Curricular_units_2nd_sem_evaluations            0\n",
      "Curricular_units_2nd_sem_approved               0\n",
      "Curricular_units_2nd_sem_grade                  0\n",
      "Curricular_units_2nd_sem_without_evaluations    0\n",
      "Unemployment_rate                               0\n",
      "Inflation_rate                                  0\n",
      "GDP                                             0\n",
      "Status                                          0\n",
      "dtype: int64\n"
     ]
    }
   ],
   "source": [
    "# Mengecek missing values\n",
    "print(df.isnull().sum())"
   ]
  },
  {
   "cell_type": "markdown",
   "metadata": {},
   "source": [
    "Hasil cek dari *missing values* adalah 0"
   ]
  },
  {
   "cell_type": "markdown",
   "metadata": {},
   "source": [
    "Cek Data Duplikat"
   ]
  },
  {
   "cell_type": "code",
   "execution_count": 4,
   "metadata": {},
   "outputs": [
    {
     "name": "stdout",
     "output_type": "stream",
     "text": [
      "Jumlah Data Duplikat: 0\n"
     ]
    }
   ],
   "source": [
    "# Mengecek jumlah data duplikat\n",
    "print(\"Jumlah Data Duplikat:\", df.duplicated().sum())"
   ]
  },
  {
   "cell_type": "markdown",
   "metadata": {},
   "source": [
    "Hasil cek dari data duplikat adalah 0"
   ]
  },
  {
   "cell_type": "markdown",
   "metadata": {},
   "source": [
    "## 2. Data Understanding"
   ]
  },
  {
   "cell_type": "markdown",
   "metadata": {},
   "source": [
    "### 2.1 Statistik Deskriptif\n"
   ]
  },
  {
   "cell_type": "markdown",
   "metadata": {},
   "source": [
    "Memeriksa distribusi data numerik dan kategorikal"
   ]
  },
  {
   "cell_type": "code",
   "execution_count": 5,
   "metadata": {},
   "outputs": [
    {
     "name": "stdout",
     "output_type": "stream",
     "text": [
      "\n",
      "📊 Statistik Deskriptif untuk Data Numerik:\n",
      "- Marital_status: Min = 1.0, Max = 6.0, Mean = 1.18, Std = 0.61\n",
      "- Application_mode: Min = 1.0, Max = 57.0, Mean = 18.67, Std = 17.48\n",
      "- Application_order: Min = 0.0, Max = 9.0, Mean = 1.73, Std = 1.31\n",
      "- Course: Min = 33.0, Max = 9991.0, Mean = 8856.64, Std = 2063.57\n",
      "- Daytime_evening_attendance: Min = 0.0, Max = 1.0, Mean = 0.89, Std = 0.31\n",
      "- Previous_qualification: Min = 1.0, Max = 43.0, Mean = 4.58, Std = 10.22\n",
      "- Previous_qualification_grade: Min = 95.0, Max = 190.0, Mean = 132.61, Std = 13.19\n",
      "- Nacionality: Min = 1.0, Max = 109.0, Mean = 1.87, Std = 6.91\n",
      "- Mothers_qualification: Min = 1.0, Max = 44.0, Mean = 19.56, Std = 15.60\n",
      "- Fathers_qualification: Min = 1.0, Max = 44.0, Mean = 22.28, Std = 15.34\n",
      "- Mothers_occupation: Min = 0.0, Max = 194.0, Mean = 10.96, Std = 26.42\n",
      "- Fathers_occupation: Min = 0.0, Max = 195.0, Mean = 11.03, Std = 25.26\n",
      "- Admission_grade: Min = 95.0, Max = 190.0, Mean = 126.98, Std = 14.48\n",
      "- Displaced: Min = 0.0, Max = 1.0, Mean = 0.55, Std = 0.50\n",
      "- Educational_special_needs: Min = 0.0, Max = 1.0, Mean = 0.01, Std = 0.11\n",
      "- Debtor: Min = 0.0, Max = 1.0, Mean = 0.11, Std = 0.32\n",
      "- Tuition_fees_up_to_date: Min = 0.0, Max = 1.0, Mean = 0.88, Std = 0.32\n",
      "- Gender: Min = 0.0, Max = 1.0, Mean = 0.35, Std = 0.48\n",
      "- Scholarship_holder: Min = 0.0, Max = 1.0, Mean = 0.25, Std = 0.43\n",
      "- Age_at_enrollment: Min = 17.0, Max = 70.0, Mean = 23.27, Std = 7.59\n",
      "- International: Min = 0.0, Max = 1.0, Mean = 0.02, Std = 0.16\n",
      "- Curricular_units_1st_sem_credited: Min = 0.0, Max = 20.0, Mean = 0.71, Std = 2.36\n",
      "- Curricular_units_1st_sem_enrolled: Min = 0.0, Max = 26.0, Mean = 6.27, Std = 2.48\n",
      "- Curricular_units_1st_sem_evaluations: Min = 0.0, Max = 45.0, Mean = 8.30, Std = 4.18\n",
      "- Curricular_units_1st_sem_approved: Min = 0.0, Max = 26.0, Mean = 4.71, Std = 3.09\n",
      "- Curricular_units_1st_sem_grade: Min = 0.0, Max = 18.875, Mean = 10.64, Std = 4.84\n",
      "- Curricular_units_1st_sem_without_evaluations: Min = 0.0, Max = 12.0, Mean = 0.14, Std = 0.69\n",
      "- Curricular_units_2nd_sem_credited: Min = 0.0, Max = 19.0, Mean = 0.54, Std = 1.92\n",
      "- Curricular_units_2nd_sem_enrolled: Min = 0.0, Max = 23.0, Mean = 6.23, Std = 2.20\n",
      "- Curricular_units_2nd_sem_evaluations: Min = 0.0, Max = 33.0, Mean = 8.06, Std = 3.95\n",
      "- Curricular_units_2nd_sem_approved: Min = 0.0, Max = 20.0, Mean = 4.44, Std = 3.01\n",
      "- Curricular_units_2nd_sem_grade: Min = 0.0, Max = 18.571428571428573, Mean = 10.23, Std = 5.21\n",
      "- Curricular_units_2nd_sem_without_evaluations: Min = 0.0, Max = 12.0, Mean = 0.15, Std = 0.75\n",
      "- Unemployment_rate: Min = 7.6, Max = 16.2, Mean = 11.57, Std = 2.66\n",
      "- Inflation_rate: Min = -0.8, Max = 3.7, Mean = 1.23, Std = 1.38\n",
      "- GDP: Min = -4.06, Max = 3.51, Mean = 0.00, Std = 2.27\n",
      "\n",
      "📊 Statistik Deskriptif untuk Data Kategorikal:\n",
      "- Status: Jumlah Unik = 3, Nilai Paling Sering = Graduate (2209 kali muncul)\n",
      "\n"
     ]
    }
   ],
   "source": [
    "# Statistik deskriptif untuk data numerik\n",
    "stats_numerik = df.describe().T\n",
    "\n",
    "text_stats_numerik = \"\\n📊 Statistik Deskriptif untuk Data Numerik:\\n\"\n",
    "for col in stats_numerik.index:\n",
    "    text_stats_numerik += f\"- {col}: Min = {stats_numerik.loc[col, 'min']}, Max = {stats_numerik.loc[col, 'max']}, Mean = {stats_numerik.loc[col, 'mean']:.2f}, Std = {stats_numerik.loc[col, 'std']:.2f}\\n\"\n",
    "\n",
    "# Statistik deskriptif untuk data kategorikal\n",
    "stats_kategorikal = df.select_dtypes(include=['object']).describe().T\n",
    "\n",
    "text_stats_kategorikal = \"\\n📊 Statistik Deskriptif untuk Data Kategorikal:\\n\"\n",
    "for col in stats_kategorikal.index:\n",
    "    text_stats_kategorikal += f\"- {col}: Jumlah Unik = {stats_kategorikal.loc[col, 'unique']}, Nilai Paling Sering = {stats_kategorikal.loc[col, 'top']} ({stats_kategorikal.loc[col, 'freq']} kali muncul)\\n\"\n",
    "\n",
    "# Gabungkan teks\n",
    "text_stats = text_stats_numerik + text_stats_kategorikal\n",
    "print(text_stats)"
   ]
  },
  {
   "cell_type": "markdown",
   "metadata": {},
   "source": [
    "### 2.2 Distribusi *Status* (Dropout, Enrolled, Graduate)"
   ]
  },
  {
   "cell_type": "markdown",
   "metadata": {},
   "source": [
    "Melihat pola dropout."
   ]
  },
  {
   "cell_type": "code",
   "execution_count": 6,
   "metadata": {},
   "outputs": [
    {
     "data": {
      "image/png": "[encoded data removed]",
      "text/plain": [
       "<Figure size 640x480 with 1 Axes>"
      ]
     },
     "metadata": {},
     "output_type": "display_data"
    }
   ],
   "source": [
    "# Distribusi Status Mahasiswa\n",
    "sns.countplot(x='Status', data=df)\n",
    "plt.title('Distribusi Status Mahasiswa')\n",
    "plt.show()"
   ]
  },
  {
   "cell_type": "code",
   "execution_count": 7,
   "metadata": {},
   "outputs": [
    {
     "name": "stdout",
     "output_type": "stream",
     "text": [
      "\n",
      "📊 Distribusi Status Mahasiswa:\n",
      "- Graduate: 2209 mahasiswa\n",
      "- Dropout: 1421 mahasiswa\n",
      "- Enrolled: 794 mahasiswa\n",
      "\n"
     ]
    }
   ],
   "source": [
    "# Hitung jumlah mahasiswa per kategori Status\n",
    "status_counts = df[\"Status\"].value_counts()\n",
    "\n",
    "text_status = \"\\n📊 Distribusi Status Mahasiswa:\\n\"\n",
    "for status, count in status_counts.items():\n",
    "    text_status += f\"- {status}: {count} mahasiswa\\n\"\n",
    "\n",
    "print(text_status)"
   ]
  },
  {
   "cell_type": "markdown",
   "metadata": {},
   "source": [
    "### 2.3 Distribusi Fitur-Fitur Utama"
   ]
  },
  {
   "cell_type": "markdown",
   "metadata": {},
   "source": [
    "Distribusi Nilai Admission Grade Berdasarkan Status"
   ]
  },
  {
   "cell_type": "code",
   "execution_count": 8,
   "metadata": {},
   "outputs": [
    {
     "data": {
      "image/png": "[encoded data removed]",
      "text/plain": [
       "<Figure size 640x480 with 1 Axes>"
      ]
     },
     "metadata": {},
     "output_type": "display_data"
    }
   ],
   "source": [
    "sns.boxplot(x='Status', y='Admission_grade', data=df)\n",
    "plt.title('Distribusi Admission Grade Berdasarkan Status Mahasiswa')\n",
    "plt.show()"
   ]
  },
  {
   "cell_type": "markdown",
   "metadata": {},
   "source": [
    "Distribusi Usia Saat Pendaftaran"
   ]
  },
  {
   "cell_type": "code",
   "execution_count": 9,
   "metadata": {},
   "outputs": [
    {
     "data": {
      "image/png": "[encoded data removed]",
      "text/plain": [
       "<Figure size 640x480 with 1 Axes>"
      ]
     },
     "metadata": {},
     "output_type": "display_data"
    }
   ],
   "source": [
    "sns.histplot(df['Age_at_enrollment'], bins=20, kde=True)\n",
    "plt.title('Distribusi Usia Saat Pendaftaran Mahasiswa')\n",
    "plt.xlabel('Usia')\n",
    "plt.ylabel('Jumlah Mahasiswa')\n",
    "plt.show()"
   ]
  },
  {
   "cell_type": "markdown",
   "metadata": {},
   "source": [
    "Analisis Pengaruh Beasiswa Terhadap Dropout"
   ]
  },
  {
   "cell_type": "code",
   "execution_count": 10,
   "metadata": {},
   "outputs": [
    {
     "data": {
      "image/png": "[encoded data removed]",
      "text/plain": [
       "<Figure size 640x480 with 1 Axes>"
      ]
     },
     "metadata": {},
     "output_type": "display_data"
    }
   ],
   "source": [
    "sns.countplot(x='Status', hue='Scholarship_holder', data=df)\n",
    "plt.title('Pengaruh Beasiswa terhadap Status Mahasiswa')\n",
    "plt.xlabel('Status')\n",
    "plt.ylabel('Jumlah Mahasiswa')\n",
    "plt.legend(['Tanpa Beasiswa', 'Penerima Beasiswa'])\n",
    "plt.show()"
   ]
  },
  {
   "cell_type": "code",
   "execution_count": 11,
   "metadata": {},
   "outputs": [
    {
     "name": "stdout",
     "output_type": "stream",
     "text": [
      "\n",
      "📊 Distribusi Admission Grade Berdasarkan Status:\n",
      "- Dropout: Min = 95.0, Max = 190.0, Mean = 124.96, Std = 15.13\n",
      "- Enrolled: Min = 95.0, Max = 190.0, Mean = 125.53, Std = 13.79\n",
      "- Graduate: Min = 95.0, Max = 190.0, Mean = 128.79, Std = 14.07\n",
      "\n",
      "📊 Distribusi Usia Saat Pendaftaran:\n",
      "- Min = 17.0, Max = 70.0, Mean = 23.27, Std = 7.59\n",
      "\n",
      "📊 Pengaruh Beasiswa terhadap Status:\n",
      "- Dropout (Tanpa Beasiswa): 1287 mahasiswa\n",
      "- Dropout (Penerima Beasiswa): 134 mahasiswa\n",
      "- Enrolled (Tanpa Beasiswa): 664 mahasiswa\n",
      "- Enrolled (Penerima Beasiswa): 130 mahasiswa\n",
      "- Graduate (Tanpa Beasiswa): 1374 mahasiswa\n",
      "- Graduate (Penerima Beasiswa): 835 mahasiswa\n",
      "\n"
     ]
    }
   ],
   "source": [
    "# Statistik Admission Grade berdasarkan Status\n",
    "admission_stats = df.groupby(\"Status\")[\"Admission_grade\"].describe()\n",
    "\n",
    "text_admission = \"\\n📊 Distribusi Admission Grade Berdasarkan Status:\\n\"\n",
    "for status in admission_stats.index:\n",
    "    text_admission += f\"- {status}: Min = {admission_stats.loc[status, 'min']}, Max = {admission_stats.loc[status, 'max']}, Mean = {admission_stats.loc[status, 'mean']:.2f}, Std = {admission_stats.loc[status, 'std']:.2f}\\n\"\n",
    "\n",
    "# Statistik Usia saat Pendaftaran\n",
    "age_stats = df[\"Age_at_enrollment\"].describe()\n",
    "\n",
    "text_age = \"\\n📊 Distribusi Usia Saat Pendaftaran:\\n\"\n",
    "text_age += f\"- Min = {age_stats['min']}, Max = {age_stats['max']}, Mean = {age_stats['mean']:.2f}, Std = {age_stats['std']:.2f}\\n\"\n",
    "\n",
    "# Statistik Pengaruh Beasiswa terhadap Status\n",
    "scholarship_counts = df.groupby(\"Status\")[\"Scholarship_holder\"].value_counts()\n",
    "\n",
    "text_scholarship = \"\\n📊 Pengaruh Beasiswa terhadap Status:\\n\"\n",
    "for (status, scholarship), count in scholarship_counts.items():\n",
    "    beasiswa_text = \"Penerima Beasiswa\" if scholarship == 1 else \"Tanpa Beasiswa\"\n",
    "    text_scholarship += f\"- {status} ({beasiswa_text}): {count} mahasiswa\\n\"\n",
    "\n",
    "# Gabungkan teks\n",
    "text_distribution = text_admission + text_age + text_scholarship\n",
    "print(text_distribution)"
   ]
  },
  {
   "cell_type": "markdown",
   "metadata": {},
   "source": [
    "## 3. Data Preparation / Preprocessing"
   ]
  },
  {
   "cell_type": "markdown",
   "metadata": {},
   "source": [
    "### 3.1 Mengatasi variabel kategorikal\n"
   ]
  },
  {
   "cell_type": "markdown",
   "metadata": {},
   "source": [
    "Variabel kategorikal dalam dataset harus dikonversi ke format numerik agar dapat digunakan dalam model machine learning. Ada beberapa metode yang bisa digunakan:\n",
    "\n",
    "1. **Label Encoding** → Cocok untuk variabel yang memiliki urutan logis.\n",
    "2. **One-Hot Encoding** → Cocok untuk variabel kategorikal tanpa urutan tertentu.\n",
    "3. **Mapping Manual** → Cocok untuk variabel dengan sedikit kategori."
   ]
  },
  {
   "cell_type": "markdown",
   "metadata": {},
   "source": [
    "1. Label Encoding (Variabel dengan Urutan):\n",
    "\n",
    "    Metode ini mengonversi kategori menjadi angka, cocok untuk variabel yang memiliki urutan tertentu seperti *Marital Status* atau *Previous Qualification*."
   ]
  },
  {
   "cell_type": "code",
   "execution_count": 12,
   "metadata": {},
   "outputs": [],
   "source": [
    "# Daftar kolom yang akan di-label encoding\n",
    "label_cols = [\"Marital_status\", \"Daytime_evening_attendance\", \"Debtor\", \"Tuition_fees_up_to_date\", \"Gender\", \"Scholarship_holder\"]\n",
    "\n",
    "# Melakukan Label Encoding\n",
    "label_encoders = {}\n",
    "for col in label_cols:\n",
    "    le = LabelEncoder()\n",
    "    df[col] = le.fit_transform(df[col])\n",
    "    label_encoders[col] = le  # Menyimpan encoder untuk nanti digunakan kembali jika perlu\n"
   ]
  },
  {
   "cell_type": "markdown",
   "metadata": {},
   "source": [
    "2. One-Hot Encoding (Variabel Tanpa Urutan):\n",
    "\n",
    "    Metode ini akan membuat kolom tambahan untuk setiap kategori yang ada, lalu kita menghapus satu kategori (drop_first=True) untuk menghindari multikolinearitas."
   ]
  },
  {
   "cell_type": "code",
   "execution_count": 13,
   "metadata": {},
   "outputs": [],
   "source": [
    "df = pd.get_dummies(df, columns=[\"Course\", \"Nacionality\", \"Mothers_qualification\", \"Fathers_qualification\"], drop_first=True)\n"
   ]
  },
  {
   "cell_type": "markdown",
   "metadata": {},
   "source": [
    "3. Mapping Manual (Variabel dengan Sedikit Kategori):\n",
    "\n",
    "    Jika hanya ada beberapa kategori seperti variabel Status, kita bisa menggunakan metode manual."
   ]
  },
  {
   "cell_type": "code",
   "execution_count": 14,
   "metadata": {},
   "outputs": [],
   "source": [
    "status_mapping = {\"Dropout\": 0, \"Enrolled\": 1, \"Graduate\": 2}\n",
    "df[\"Status_Numeric\"] = df[\"Status\"].map(status_mapping)"
   ]
  },
  {
   "cell_type": "markdown",
   "metadata": {},
   "source": [
    "### 3.2 Normalisasi Variabel Numerik\n",
    "\n",
    "Normalisasi bertujuan untuk menyamakan skala semua fitur numerik, sehingga tidak ada fitur yang mendominasi hanya karena memiliki nilai yang lebih besar. Ini sangat penting untuk algoritma seperti K-NN, SVM, dan Gradient Descent-based models (seperti logistic regression, neural network, dll)."
   ]
  },
  {
   "cell_type": "markdown",
   "metadata": {},
   "source": [
    "Menentukan Fitur yang Akan Dinormalisasi:\n",
    "\n",
    "Kita akan mengekstrak semua kolom numerik, lalu menghindari normalisasi pada target (*Status_Numeric*) karena itu adalah label."
   ]
  },
  {
   "cell_type": "code",
   "execution_count": 15,
   "metadata": {},
   "outputs": [],
   "source": [
    "# Memilih semua fitur numerik KECUALI kolom target\n",
    "numerical_cols = df.select_dtypes(include=['number']).drop(columns=['Status_Numeric']).columns\n",
    "\n",
    "# Inisialisasi MinMaxScaler\n",
    "scaler = MinMaxScaler()\n",
    "\n",
    "# Lakukan normalisasi\n",
    "df[numerical_cols] = scaler.fit_transform(df[numerical_cols])"
   ]
  },
  {
   "cell_type": "markdown",
   "metadata": {},
   "source": [
    "### 3.3 Pembagian Data *Train* dan *Test*\n",
    "\n",
    "Sebelum memulai proses pelatihan model, dataset harus dibagi menjadi dua bagian:\n",
    "- Data *Training* → Untuk melatih model agar belajar dari pola data.\n",
    "- Data *Testing* → Untuk mengevaluasi performa model pada data yang belum pernah dilihat sebelumnya."
   ]
  },
  {
   "cell_type": "markdown",
   "metadata": {},
   "source": [
    "- Pisahkan Fitur dan Target\n",
    "\n",
    "    Pastikan kita tidak menyertakan kolom `Status` asli yang masih berupa string, dan gunakan `Status_Numeric` sebagai label prediksi."
   ]
  },
  {
   "cell_type": "code",
   "execution_count": 16,
   "metadata": {},
   "outputs": [],
   "source": [
    "# X = fitur (selain Status dan Status_Numeric jika tidak relevan)\n",
    "X = df.drop(columns=[\"Status\", \"Status_Numeric\"])\n",
    "\n",
    "# y = target (Status Numerik untuk prediksi dropout)\n",
    "y = df[\"Status_Numeric\"]"
   ]
  },
  {
   "cell_type": "markdown",
   "metadata": {},
   "source": [
    "- Bagi Data dengan Stratifikasi\n",
    "\n",
    "    Gunakan stratifikasi untuk menjaga proporsi kelas tetap seimbang di data training dan testing."
   ]
  },
  {
   "cell_type": "code",
   "execution_count": 17,
   "metadata": {},
   "outputs": [],
   "source": [
    "X_train, X_test, y_train, y_test = train_test_split(\n",
    "    X, y, \n",
    "    test_size=0.2, \n",
    "    random_state=42, \n",
    "    stratify=y  # menjaga proporsi label yang seimbang\n",
    ")\n"
   ]
  },
  {
   "cell_type": "markdown",
   "metadata": {},
   "source": [
    "Hasil *Train* dan *Test*"
   ]
  },
  {
   "cell_type": "code",
   "execution_count": 18,
   "metadata": {},
   "outputs": [
    {
     "name": "stdout",
     "output_type": "stream",
     "text": [
      "Jumlah data train: 3539\n",
      "Jumlah data test : 885\n",
      "\n",
      "Distribusi kelas pada data train:\n",
      "Status_Numeric\n",
      "2    0.499294\n",
      "0    0.321277\n",
      "1    0.179429\n",
      "Name: proportion, dtype: float64\n"
     ]
    }
   ],
   "source": [
    "print(f\"Jumlah data train: {X_train.shape[0]}\")\n",
    "print(f\"Jumlah data test : {X_test.shape[0]}\")\n",
    "print(\"\\nDistribusi kelas pada data train:\")\n",
    "print(y_train.value_counts(normalize=True))\n"
   ]
  },
  {
   "cell_type": "markdown",
   "metadata": {},
   "source": [
    "### 3.4 Reframing: Prediksi Risiko Dropout (Binary Classification)"
   ]
  },
  {
   "cell_type": "markdown",
   "metadata": {},
   "source": [
    "Pada tahap ini, kita mengubah skenario prediksi dari tiga kelas (Dropout, Enrolled, Graduate) menjadi dua kelas saja:\n",
    "- **1 = Mahasiswa Dropout (berisiko keluar)**\n",
    "- **0 = Mahasiswa Tidak Dropout (baik masih Enrolled maupun sudah Graduate)**\n",
    "\n",
    "Tujuannya adalah membangun model untuk mengenali **mahasiswa yang berisiko dropout**, sehingga sistem dapat memberikan _early warning_ kepada pihak akademik. Dengan pendekatan ini, kita lebih fokus pada penanganan dan intervensi untuk mahasiswa yang masih aktif."
   ]
  },
  {
   "cell_type": "code",
   "execution_count": 19,
   "metadata": {},
   "outputs": [],
   "source": [
    "# 3.4 Reframing: Binary Classification untuk Prediksi Dropout\n",
    "df[\"Dropout_Label\"] = df[\"Status\"].apply(lambda x: 1 if x == \"Dropout\" else 0)\n",
    "\n",
    "# Gunakan semua fitur selain label asli dan kolom string status\n",
    "X = df.drop(columns=[\"Status\", \"Status_Numeric\", \"Dropout_Label\"])\n",
    "y = df[\"Dropout_Label\"]\n",
    "\n",
    "# Bagi data dengan stratifikasi\n",
    "X_train, X_test, y_train, y_test = train_test_split(\n",
    "    X, y,\n",
    "    test_size=0.2,\n",
    "    random_state=42,\n",
    "    stratify=y\n",
    ")\n"
   ]
  },
  {
   "cell_type": "markdown",
   "metadata": {},
   "source": [
    "Simpan Data"
   ]
  },
  {
   "cell_type": "code",
   "execution_count": 20,
   "metadata": {},
   "outputs": [],
   "source": [
    "# Simpan dataset yang sudah diproses penuh (termasuk encoding dan normalisasi)\n",
    "df.to_csv(\"data_preprocessed.csv\", index=False)"
   ]
  },
  {
   "cell_type": "code",
   "execution_count": 21,
   "metadata": {},
   "outputs": [
    {
     "data": {
      "text/plain": [
       "['rf_feature_names.pkl']"
      ]
     },
     "execution_count": 21,
     "metadata": {},
     "output_type": "execute_result"
    }
   ],
   "source": [
    "# Setelah selesai training & preprocessing\n",
    "feature_names = X_train.columns.tolist()\n",
    "joblib.dump(feature_names, \"rf_feature_names.pkl\")\n"
   ]
  },
  {
   "cell_type": "markdown",
   "metadata": {},
   "source": [
    "## 4. Modeling"
   ]
  },
  {
   "cell_type": "markdown",
   "metadata": {},
   "source": [
    "Membangun model machine learning untuk memprediksi status mahasiswa berdasarkan fitur-fitur yang telah kita bersihkan dan proses sebelumnya. Kita akan mencoba beberapa algoritma dasar sebagai baseline untuk membandingkan performa."
   ]
  },
  {
   "cell_type": "markdown",
   "metadata": {},
   "source": [
    "### 4.1 Pemodelan Awal"
   ]
  },
  {
   "cell_type": "markdown",
   "metadata": {},
   "source": [
    "Kita mulai dengan menggunakan 3 model untuk membandingkan model yang paling optimal:\n",
    "1. **Logistic Regression**\n",
    "2. **Random Forest**\n",
    "3. **K-Nearest Neighbors (KNN)**"
   ]
  },
  {
   "cell_type": "code",
   "execution_count": 23,
   "metadata": {},
   "outputs": [
    {
     "name": "stdout",
     "output_type": "stream",
     "text": [
      "\n",
      "📊 Model: Logistic Regression\n",
      "Accuracy: 0.8780\n",
      "Classification Report:\n",
      "               precision    recall  f1-score   support\n",
      "\n",
      "Tidak Dropout       0.87      0.96      0.91       601\n",
      "      Dropout       0.89      0.71      0.79       284\n",
      "\n",
      "     accuracy                           0.88       885\n",
      "    macro avg       0.88      0.83      0.85       885\n",
      " weighted avg       0.88      0.88      0.87       885\n",
      "\n",
      "\n",
      "📊 Model: Random Forest\n",
      "Accuracy: 0.8734\n",
      "Classification Report:\n",
      "               precision    recall  f1-score   support\n",
      "\n",
      "Tidak Dropout       0.87      0.95      0.91       601\n",
      "      Dropout       0.87      0.71      0.78       284\n",
      "\n",
      "     accuracy                           0.87       885\n",
      "    macro avg       0.87      0.83      0.85       885\n",
      " weighted avg       0.87      0.87      0.87       885\n",
      "\n",
      "\n",
      "📊 Model: KNN\n",
      "Accuracy: 0.7842\n",
      "Classification Report:\n",
      "               precision    recall  f1-score   support\n",
      "\n",
      "Tidak Dropout       0.79      0.93      0.85       601\n",
      "      Dropout       0.76      0.48      0.59       284\n",
      "\n",
      "     accuracy                           0.78       885\n",
      "    macro avg       0.77      0.70      0.72       885\n",
      " weighted avg       0.78      0.78      0.77       885\n",
      "\n",
      "               precision    recall  f1-score   support\n",
      "\n",
      "Tidak Dropout       0.79      0.93      0.85       601\n",
      "      Dropout       0.76      0.48      0.59       284\n",
      "\n",
      "     accuracy                           0.78       885\n",
      "    macro avg       0.77      0.70      0.72       885\n",
      " weighted avg       0.78      0.78      0.77       885\n",
      "\n"
     ]
    }
   ],
   "source": [
    "# Inisialisasi model\n",
    "models = {\n",
    "    \"Logistic Regression\": LogisticRegression(max_iter=1000),\n",
    "    \"Random Forest\": RandomForestClassifier(n_estimators=100, random_state=42),\n",
    "    \"KNN\": KNeighborsClassifier()\n",
    "}\n",
    "\n",
    "# Evaluasi tiap model\n",
    "for name, model in models.items():\n",
    "    model.fit(X_train, y_train)\n",
    "    y_pred = model.predict(X_test)\n",
    "    \n",
    "    print(f\"\\n📊 Model: {name}\")\n",
    "    print(f\"Accuracy: {accuracy_score(y_test, y_pred):.4f}\")\n",
    "    print(\"Classification Report:\")\n",
    "    print(classification_report(y_test, y_pred, target_names=[\"Tidak Dropout\", \"Dropout\"]))\n",
    "\n",
    "print(classification_report(\n",
    "    y_test,\n",
    "    y_pred,\n",
    "    labels=[0, 1],\n",
    "    target_names=[\"Tidak Dropout\", \"Dropout\"]\n",
    "))"
   ]
  },
  {
   "cell_type": "markdown",
   "metadata": {},
   "source": [
    "#### 4.2 Hyperparameter Tuning – Random Forest (Binary Classification)"
   ]
  },
  {
   "cell_type": "markdown",
   "metadata": {},
   "source": [
    "Setelah mengevaluasi model baseline, kita fokus pada penyetelan parameter model terbaik, yaitu **Random Forest**, dengan skenario klasifikasi biner (Dropout vs Tidak Dropout).  \n",
    "Tuning dilakukan untuk mencari kombinasi parameter yang menghasilkan performa optimal berdasarkan akurasi dan kemampuan mendeteksi mahasiswa dropout (recall)."
   ]
  },
  {
   "cell_type": "markdown",
   "metadata": {},
   "source": [
    "#### Menyiapkan Parameter Grid untuk Tuning"
   ]
  },
  {
   "cell_type": "code",
   "execution_count": 24,
   "metadata": {},
   "outputs": [
    {
     "name": "stdout",
     "output_type": "stream",
     "text": [
      "Fitting 5 folds for each of 48 candidates, totalling 240 fits\n"
     ]
    },
    {
     "data": {
      "text/html": [
       "<style>#sk-container-id-1 {\n",
       "  /* Definition of color scheme common for light and dark mode */\n",
       "  --sklearn-color-text: black;\n",
       "  --sklearn-color-line: gray;\n",
       "  /* Definition of color scheme for unfitted estimators */\n",
       "  --sklearn-color-unfitted-level-0: #fff5e6;\n",
       "  --sklearn-color-unfitted-level-1: #f6e4d2;\n",
       "  --sklearn-color-unfitted-level-2: #ffe0b3;\n",
       "  --sklearn-color-unfitted-level-3: chocolate;\n",
       "  /* Definition of color scheme for fitted estimators */\n",
       "  --sklearn-color-fitted-level-0: #f0f8ff;\n",
       "  --sklearn-color-fitted-level-1: #d4ebff;\n",
       "  --sklearn-color-fitted-level-2: #b3dbfd;\n",
       "  --sklearn-color-fitted-level-3: cornflowerblue;\n",
       "\n",
       "  /* Specific color for light theme */\n",
       "  --sklearn-color-text-on-default-background: var(--sg-text-color, var(--theme-code-foreground, var(--jp-content-font-color1, black)));\n",
       "  --sklearn-color-background: var(--sg-background-color, var(--theme-background, var(--jp-layout-color0, white)));\n",
       "  --sklearn-color-border-box: var(--sg-text-color, var(--theme-code-foreground, var(--jp-content-font-color1, black)));\n",
       "  --sklearn-color-icon: #696969;\n",
       "\n",
       "  @media (prefers-color-scheme: dark) {\n",
       "    /* Redefinition of color scheme for dark theme */\n",
       "    --sklearn-color-text-on-default-background: var(--sg-text-color, var(--theme-code-foreground, var(--jp-content-font-color1, white)));\n",
       "    --sklearn-color-background: var(--sg-background-color, var(--theme-background, var(--jp-layout-color0, #111)));\n",
       "    --sklearn-color-border-box: var(--sg-text-color, var(--theme-code-foreground, var(--jp-content-font-color1, white)));\n",
       "    --sklearn-color-icon: #878787;\n",
       "  }\n",
       "}\n",
       "\n",
       "#sk-container-id-1 {\n",
       "  color: var(--sklearn-color-text);\n",
       "}\n",
       "\n",
       "#sk-container-id-1 pre {\n",
       "  padding: 0;\n",
       "}\n",
       "\n",
       "#sk-container-id-1 input.sk-hidden--visually {\n",
       "  border: 0;\n",
       "  clip: rect(1px 1px 1px 1px);\n",
       "  clip: rect(1px, 1px, 1px, 1px);\n",
       "  height: 1px;\n",
       "  margin: -1px;\n",
       "  overflow: hidden;\n",
       "  padding: 0;\n",
       "  position: absolute;\n",
       "  width: 1px;\n",
       "}\n",
       "\n",
       "#sk-container-id-1 div.sk-dashed-wrapped {\n",
       "  border: 1px dashed var(--sklearn-color-line);\n",
       "  margin: 0 0.4em 0.5em 0.4em;\n",
       "  box-sizing: border-box;\n",
       "  padding-bottom: 0.4em;\n",
       "  background-color: var(--sklearn-color-background);\n",
       "}\n",
       "\n",
       "#sk-container-id-1 div.sk-container {\n",
       "  /* jupyter's `normalize.less` sets `[hidden] { display: none; }`\n",
       "     but bootstrap.min.css set `[hidden] { display: none !important; }`\n",
       "     so we also need the `!important` here to be able to override the\n",
       "     default hidden behavior on the sphinx rendered scikit-learn.org.\n",
       "     See: https://github.com/scikit-learn/scikit-learn/issues/21755 */\n",
       "  display: inline-block !important;\n",
       "  position: relative;\n",
       "}\n",
       "\n",
       "#sk-container-id-1 div.sk-text-repr-fallback {\n",
       "  display: none;\n",
       "}\n",
       "\n",
       "div.sk-parallel-item,\n",
       "div.sk-serial,\n",
       "div.sk-item {\n",
       "  /* draw centered vertical line to link estimators */\n",
       "  background-image: linear-gradient(var(--sklearn-color-text-on-default-background), var(--sklearn-color-text-on-default-background));\n",
       "  background-size: 2px 100%;\n",
       "  background-repeat: no-repeat;\n",
       "  background-position: center center;\n",
       "}\n",
       "\n",
       "/* Parallel-specific style estimator block */\n",
       "\n",
       "#sk-container-id-1 div.sk-parallel-item::after {\n",
       "  content: \"\";\n",
       "  width: 100%;\n",
       "  border-bottom: 2px solid var(--sklearn-color-text-on-default-background);\n",
       "  flex-grow: 1;\n",
       "}\n",
       "\n",
       "#sk-container-id-1 div.sk-parallel {\n",
       "  display: flex;\n",
       "  align-items: stretch;\n",
       "  justify-content: center;\n",
       "  background-color: var(--sklearn-color-background);\n",
       "  position: relative;\n",
       "}\n",
       "\n",
       "#sk-container-id-1 div.sk-parallel-item {\n",
       "  display: flex;\n",
       "  flex-direction: column;\n",
       "}\n",
       "\n",
       "#sk-container-id-1 div.sk-parallel-item:first-child::after {\n",
       "  align-self: flex-end;\n",
       "  width: 50%;\n",
       "}\n",
       "\n",
       "#sk-container-id-1 div.sk-parallel-item:last-child::after {\n",
       "  align-self: flex-start;\n",
       "  width: 50%;\n",
       "}\n",
       "\n",
       "#sk-container-id-1 div.sk-parallel-item:only-child::after {\n",
       "  width: 0;\n",
       "}\n",
       "\n",
       "/* Serial-specific style estimator block */\n",
       "\n",
       "#sk-container-id-1 div.sk-serial {\n",
       "  display: flex;\n",
       "  flex-direction: column;\n",
       "  align-items: center;\n",
       "  background-color: var(--sklearn-color-background);\n",
       "  padding-right: 1em;\n",
       "  padding-left: 1em;\n",
       "}\n",
       "\n",
       "\n",
       "/* Toggleable style: style used for estimator/Pipeline/ColumnTransformer box that is\n",
       "clickable and can be expanded/collapsed.\n",
       "- Pipeline and ColumnTransformer use this feature and define the default style\n",
       "- Estimators will overwrite some part of the style using the `sk-estimator` class\n",
       "*/\n",
       "\n",
       "/* Pipeline and ColumnTransformer style (default) */\n",
       "\n",
       "#sk-container-id-1 div.sk-toggleable {\n",
       "  /* Default theme specific background. It is overwritten whether we have a\n",
       "  specific estimator or a Pipeline/ColumnTransformer */\n",
       "  background-color: var(--sklearn-color-background);\n",
       "}\n",
       "\n",
       "/* Toggleable label */\n",
       "#sk-container-id-1 label.sk-toggleable__label {\n",
       "  cursor: pointer;\n",
       "  display: block;\n",
       "  width: 100%;\n",
       "  margin-bottom: 0;\n",
       "  padding: 0.5em;\n",
       "  box-sizing: border-box;\n",
       "  text-align: center;\n",
       "}\n",
       "\n",
       "#sk-container-id-1 label.sk-toggleable__label-arrow:before {\n",
       "  /* Arrow on the left of the label */\n",
       "  content: \"▸\";\n",
       "  float: left;\n",
       "  margin-right: 0.25em;\n",
       "  color: var(--sklearn-color-icon);\n",
       "}\n",
       "\n",
       "#sk-container-id-1 label.sk-toggleable__label-arrow:hover:before {\n",
       "  color: var(--sklearn-color-text);\n",
       "}\n",
       "\n",
       "/* Toggleable content - dropdown */\n",
       "\n",
       "#sk-container-id-1 div.sk-toggleable__content {\n",
       "  max-height: 0;\n",
       "  max-width: 0;\n",
       "  overflow: hidden;\n",
       "  text-align: left;\n",
       "  /* unfitted */\n",
       "  background-color: var(--sklearn-color-unfitted-level-0);\n",
       "}\n",
       "\n",
       "#sk-container-id-1 div.sk-toggleable__content.fitted {\n",
       "  /* fitted */\n",
       "  background-color: var(--sklearn-color-fitted-level-0);\n",
       "}\n",
       "\n",
       "#sk-container-id-1 div.sk-toggleable__content pre {\n",
       "  margin: 0.2em;\n",
       "  border-radius: 0.25em;\n",
       "  color: var(--sklearn-color-text);\n",
       "  /* unfitted */\n",
       "  background-color: var(--sklearn-color-unfitted-level-0);\n",
       "}\n",
       "\n",
       "#sk-container-id-1 div.sk-toggleable__content.fitted pre {\n",
       "  /* unfitted */\n",
       "  background-color: var(--sklearn-color-fitted-level-0);\n",
       "}\n",
       "\n",
       "#sk-container-id-1 input.sk-toggleable__control:checked~div.sk-toggleable__content {\n",
       "  /* Expand drop-down */\n",
       "  max-height: 200px;\n",
       "  max-width: 100%;\n",
       "  overflow: auto;\n",
       "}\n",
       "\n",
       "#sk-container-id-1 input.sk-toggleable__control:checked~label.sk-toggleable__label-arrow:before {\n",
       "  content: \"▾\";\n",
       "}\n",
       "\n",
       "/* Pipeline/ColumnTransformer-specific style */\n",
       "\n",
       "#sk-container-id-1 div.sk-label input.sk-toggleable__control:checked~label.sk-toggleable__label {\n",
       "  color: var(--sklearn-color-text);\n",
       "  background-color: var(--sklearn-color-unfitted-level-2);\n",
       "}\n",
       "\n",
       "#sk-container-id-1 div.sk-label.fitted input.sk-toggleable__control:checked~label.sk-toggleable__label {\n",
       "  background-color: var(--sklearn-color-fitted-level-2);\n",
       "}\n",
       "\n",
       "/* Estimator-specific style */\n",
       "\n",
       "/* Colorize estimator box */\n",
       "#sk-container-id-1 div.sk-estimator input.sk-toggleable__control:checked~label.sk-toggleable__label {\n",
       "  /* unfitted */\n",
       "  background-color: var(--sklearn-color-unfitted-level-2);\n",
       "}\n",
       "\n",
       "#sk-container-id-1 div.sk-estimator.fitted input.sk-toggleable__control:checked~label.sk-toggleable__label {\n",
       "  /* fitted */\n",
       "  background-color: var(--sklearn-color-fitted-level-2);\n",
       "}\n",
       "\n",
       "#sk-container-id-1 div.sk-label label.sk-toggleable__label,\n",
       "#sk-container-id-1 div.sk-label label {\n",
       "  /* The background is the default theme color */\n",
       "  color: var(--sklearn-color-text-on-default-background);\n",
       "}\n",
       "\n",
       "/* On hover, darken the color of the background */\n",
       "#sk-container-id-1 div.sk-label:hover label.sk-toggleable__label {\n",
       "  color: var(--sklearn-color-text);\n",
       "  background-color: var(--sklearn-color-unfitted-level-2);\n",
       "}\n",
       "\n",
       "/* Label box, darken color on hover, fitted */\n",
       "#sk-container-id-1 div.sk-label.fitted:hover label.sk-toggleable__label.fitted {\n",
       "  color: var(--sklearn-color-text);\n",
       "  background-color: var(--sklearn-color-fitted-level-2);\n",
       "}\n",
       "\n",
       "/* Estimator label */\n",
       "\n",
       "#sk-container-id-1 div.sk-label label {\n",
       "  font-family: monospace;\n",
       "  font-weight: bold;\n",
       "  display: inline-block;\n",
       "  line-height: 1.2em;\n",
       "}\n",
       "\n",
       "#sk-container-id-1 div.sk-label-container {\n",
       "  text-align: center;\n",
       "}\n",
       "\n",
       "/* Estimator-specific */\n",
       "#sk-container-id-1 div.sk-estimator {\n",
       "  font-family: monospace;\n",
       "  border: 1px dotted var(--sklearn-color-border-box);\n",
       "  border-radius: 0.25em;\n",
       "  box-sizing: border-box;\n",
       "  margin-bottom: 0.5em;\n",
       "  /* unfitted */\n",
       "  background-color: var(--sklearn-color-unfitted-level-0);\n",
       "}\n",
       "\n",
       "#sk-container-id-1 div.sk-estimator.fitted {\n",
       "  /* fitted */\n",
       "  background-color: var(--sklearn-color-fitted-level-0);\n",
       "}\n",
       "\n",
       "/* on hover */\n",
       "#sk-container-id-1 div.sk-estimator:hover {\n",
       "  /* unfitted */\n",
       "  background-color: var(--sklearn-color-unfitted-level-2);\n",
       "}\n",
       "\n",
       "#sk-container-id-1 div.sk-estimator.fitted:hover {\n",
       "  /* fitted */\n",
       "  background-color: var(--sklearn-color-fitted-level-2);\n",
       "}\n",
       "\n",
       "/* Specification for estimator info (e.g. \"i\" and \"?\") */\n",
       "\n",
       "/* Common style for \"i\" and \"?\" */\n",
       "\n",
       ".sk-estimator-doc-link,\n",
       "a:link.sk-estimator-doc-link,\n",
       "a:visited.sk-estimator-doc-link {\n",
       "  float: right;\n",
       "  font-size: smaller;\n",
       "  line-height: 1em;\n",
       "  font-family: monospace;\n",
       "  background-color: var(--sklearn-color-background);\n",
       "  border-radius: 1em;\n",
       "  height: 1em;\n",
       "  width: 1em;\n",
       "  text-decoration: none !important;\n",
       "  margin-left: 1ex;\n",
       "  /* unfitted */\n",
       "  border: var(--sklearn-color-unfitted-level-1) 1pt solid;\n",
       "  color: var(--sklearn-color-unfitted-level-1);\n",
       "}\n",
       "\n",
       ".sk-estimator-doc-link.fitted,\n",
       "a:link.sk-estimator-doc-link.fitted,\n",
       "a:visited.sk-estimator-doc-link.fitted {\n",
       "  /* fitted */\n",
       "  border: var(--sklearn-color-fitted-level-1) 1pt solid;\n",
       "  color: var(--sklearn-color-fitted-level-1);\n",
       "}\n",
       "\n",
       "/* On hover */\n",
       "div.sk-estimator:hover .sk-estimator-doc-link:hover,\n",
       ".sk-estimator-doc-link:hover,\n",
       "div.sk-label-container:hover .sk-estimator-doc-link:hover,\n",
       ".sk-estimator-doc-link:hover {\n",
       "  /* unfitted */\n",
       "  background-color: var(--sklearn-color-unfitted-level-3);\n",
       "  color: var(--sklearn-color-background);\n",
       "  text-decoration: none;\n",
       "}\n",
       "\n",
       "div.sk-estimator.fitted:hover .sk-estimator-doc-link.fitted:hover,\n",
       ".sk-estimator-doc-link.fitted:hover,\n",
       "div.sk-label-container:hover .sk-estimator-doc-link.fitted:hover,\n",
       ".sk-estimator-doc-link.fitted:hover {\n",
       "  /* fitted */\n",
       "  background-color: var(--sklearn-color-fitted-level-3);\n",
       "  color: var(--sklearn-color-background);\n",
       "  text-decoration: none;\n",
       "}\n",
       "\n",
       "/* Span, style for the box shown on hovering the info icon */\n",
       ".sk-estimator-doc-link span {\n",
       "  display: none;\n",
       "  z-index: 9999;\n",
       "  position: relative;\n",
       "  font-weight: normal;\n",
       "  right: .2ex;\n",
       "  padding: .5ex;\n",
       "  margin: .5ex;\n",
       "  width: min-content;\n",
       "  min-width: 20ex;\n",
       "  max-width: 50ex;\n",
       "  color: var(--sklearn-color-text);\n",
       "  box-shadow: 2pt 2pt 4pt #999;\n",
       "  /* unfitted */\n",
       "  background: var(--sklearn-color-unfitted-level-0);\n",
       "  border: .5pt solid var(--sklearn-color-unfitted-level-3);\n",
       "}\n",
       "\n",
       ".sk-estimator-doc-link.fitted span {\n",
       "  /* fitted */\n",
       "  background: var(--sklearn-color-fitted-level-0);\n",
       "  border: var(--sklearn-color-fitted-level-3);\n",
       "}\n",
       "\n",
       ".sk-estimator-doc-link:hover span {\n",
       "  display: block;\n",
       "}\n",
       "\n",
       "/* \"?\"-specific style due to the `<a>` HTML tag */\n",
       "\n",
       "#sk-container-id-1 a.estimator_doc_link {\n",
       "  float: right;\n",
       "  font-size: 1rem;\n",
       "  line-height: 1em;\n",
       "  font-family: monospace;\n",
       "  background-color: var(--sklearn-color-background);\n",
       "  border-radius: 1rem;\n",
       "  height: 1rem;\n",
       "  width: 1rem;\n",
       "  text-decoration: none;\n",
       "  /* unfitted */\n",
       "  color: var(--sklearn-color-unfitted-level-1);\n",
       "  border: var(--sklearn-color-unfitted-level-1) 1pt solid;\n",
       "}\n",
       "\n",
       "#sk-container-id-1 a.estimator_doc_link.fitted {\n",
       "  /* fitted */\n",
       "  border: var(--sklearn-color-fitted-level-1) 1pt solid;\n",
       "  color: var(--sklearn-color-fitted-level-1);\n",
       "}\n",
       "\n",
       "/* On hover */\n",
       "#sk-container-id-1 a.estimator_doc_link:hover {\n",
       "  /* unfitted */\n",
       "  background-color: var(--sklearn-color-unfitted-level-3);\n",
       "  color: var(--sklearn-color-background);\n",
       "  text-decoration: none;\n",
       "}\n",
       "\n",
       "#sk-container-id-1 a.estimator_doc_link.fitted:hover {\n",
       "  /* fitted */\n",
       "  background-color: var(--sklearn-color-fitted-level-3);\n",
       "}\n",
       "</style><div id=\"sk-container-id-1\" class=\"sk-top-container\"><div class=\"sk-text-repr-fallback\"><pre>GridSearchCV(cv=5, estimator=RandomForestClassifier(random_state=42), n_jobs=-1,\n",
       "             param_grid={&#x27;bootstrap&#x27;: [True, False],\n",
       "                         &#x27;max_depth&#x27;: [None, 10, 20],\n",
       "                         &#x27;min_samples_leaf&#x27;: [1, 2],\n",
       "                         &#x27;min_samples_split&#x27;: [2, 5],\n",
       "                         &#x27;n_estimators&#x27;: [100, 200]},\n",
       "             scoring=&#x27;f1&#x27;, verbose=1)</pre><b>In a Jupyter environment, please rerun this cell to show the HTML representation or trust the notebook. <br />On GitHub, the HTML representation is unable to render, please try loading this page with nbviewer.org.</b></div><div class=\"sk-container\" hidden><div class=\"sk-item sk-dashed-wrapped\"><div class=\"sk-label-container\"><div class=\"sk-label fitted sk-toggleable\"><input class=\"sk-toggleable__control sk-hidden--visually\" id=\"sk-estimator-id-1\" type=\"checkbox\" ><label for=\"sk-estimator-id-1\" class=\"sk-toggleable__label fitted sk-toggleable__label-arrow fitted\">&nbsp;&nbsp;GridSearchCV<a class=\"sk-estimator-doc-link fitted\" rel=\"noreferrer\" target=\"_blank\" href=\"https://scikit-learn.org/1.5/modules/generated/sklearn.model_selection.GridSearchCV.html\">?<span>Documentation for GridSearchCV</span></a><span class=\"sk-estimator-doc-link fitted\">i<span>Fitted</span></span></label><div class=\"sk-toggleable__content fitted\"><pre>GridSearchCV(cv=5, estimator=RandomForestClassifier(random_state=42), n_jobs=-1,\n",
       "             param_grid={&#x27;bootstrap&#x27;: [True, False],\n",
       "                         &#x27;max_depth&#x27;: [None, 10, 20],\n",
       "                         &#x27;min_samples_leaf&#x27;: [1, 2],\n",
       "                         &#x27;min_samples_split&#x27;: [2, 5],\n",
       "                         &#x27;n_estimators&#x27;: [100, 200]},\n",
       "             scoring=&#x27;f1&#x27;, verbose=1)</pre></div> </div></div><div class=\"sk-parallel\"><div class=\"sk-parallel-item\"><div class=\"sk-item\"><div class=\"sk-label-container\"><div class=\"sk-label fitted sk-toggleable\"><input class=\"sk-toggleable__control sk-hidden--visually\" id=\"sk-estimator-id-2\" type=\"checkbox\" ><label for=\"sk-estimator-id-2\" class=\"sk-toggleable__label fitted sk-toggleable__label-arrow fitted\">best_estimator_: RandomForestClassifier</label><div class=\"sk-toggleable__content fitted\"><pre>RandomForestClassifier(bootstrap=False, max_depth=20, min_samples_split=5,\n",
       "                       n_estimators=200, random_state=42)</pre></div> </div></div><div class=\"sk-serial\"><div class=\"sk-item\"><div class=\"sk-estimator fitted sk-toggleable\"><input class=\"sk-toggleable__control sk-hidden--visually\" id=\"sk-estimator-id-3\" type=\"checkbox\" ><label for=\"sk-estimator-id-3\" class=\"sk-toggleable__label fitted sk-toggleable__label-arrow fitted\">&nbsp;RandomForestClassifier<a class=\"sk-estimator-doc-link fitted\" rel=\"noreferrer\" target=\"_blank\" href=\"https://scikit-learn.org/1.5/modules/generated/sklearn.ensemble.RandomForestClassifier.html\">?<span>Documentation for RandomForestClassifier</span></a></label><div class=\"sk-toggleable__content fitted\"><pre>RandomForestClassifier(bootstrap=False, max_depth=20, min_samples_split=5,\n",
       "                       n_estimators=200, random_state=42)</pre></div> </div></div></div></div></div></div></div></div></div>"
      ],
      "text/plain": [
       "GridSearchCV(cv=5, estimator=RandomForestClassifier(random_state=42), n_jobs=-1,\n",
       "             param_grid={'bootstrap': [True, False],\n",
       "                         'max_depth': [None, 10, 20],\n",
       "                         'min_samples_leaf': [1, 2],\n",
       "                         'min_samples_split': [2, 5],\n",
       "                         'n_estimators': [100, 200]},\n",
       "             scoring='f1', verbose=1)"
      ]
     },
     "execution_count": 24,
     "metadata": {},
     "output_type": "execute_result"
    }
   ],
   "source": [
    "# 4.2 Tuning Random Forest untuk Prediksi Risiko Dropout\n",
    "from sklearn.model_selection import GridSearchCV\n",
    "\n",
    "# Parameter grid\n",
    "param_grid = {\n",
    "    'n_estimators': [100, 200],\n",
    "    'max_depth': [None, 10, 20],\n",
    "    'min_samples_split': [2, 5],\n",
    "    'min_samples_leaf': [1, 2],\n",
    "    'bootstrap': [True, False]\n",
    "}\n",
    "\n",
    "# Inisialisasi model dasar\n",
    "rf = RandomForestClassifier(random_state=42)\n",
    "\n",
    "# Setup GridSearchCV\n",
    "grid_search = GridSearchCV(\n",
    "    estimator=rf,\n",
    "    param_grid=param_grid,\n",
    "    cv=5,\n",
    "    scoring='f1',  # karena kita fokus pada deteksi kelas 1 (Dropout)\n",
    "    n_jobs=-1,\n",
    "    verbose=1\n",
    ")\n",
    "\n",
    "# Jalankan Grid Search\n",
    "grid_search.fit(X_train, y_train)\n"
   ]
  },
  {
   "cell_type": "markdown",
   "metadata": {},
   "source": [
    "## 5. Evaluation"
   ]
  },
  {
   "cell_type": "markdown",
   "metadata": {},
   "source": [
    "### 5.1 Evaluasi Model Hasil Tuning\n",
    "\n",
    "Setelah menjalankan Grid Search untuk Random Forest, kini kita evaluasi performa dari model terbaik yang ditemukan.  \n",
    "Fokus utama evaluasi:\n",
    "- Akurasi keseluruhan\n",
    "- Precision, Recall, dan F1-score khusus untuk **kelas Dropout (1)**\n",
    "- Visualisasi Confusion Matrix"
   ]
  },
  {
   "cell_type": "code",
   "execution_count": 27,
   "metadata": {},
   "outputs": [
    {
     "name": "stdout",
     "output_type": "stream",
     "text": [
      "📍 Best Parameters: {'bootstrap': False, 'max_depth': 20, 'min_samples_leaf': 1, 'min_samples_split': 5, 'n_estimators': 200}\n",
      "\n",
      "📊 Evaluasi Model Random Forest (hasil tuning):\n",
      "Accuracy: 0.8768\n",
      "Classification Report:\n",
      "               precision    recall  f1-score   support\n",
      "\n",
      "Tidak Dropout       0.88      0.95      0.91       601\n",
      "      Dropout       0.88      0.72      0.79       284\n",
      "\n",
      "     accuracy                           0.88       885\n",
      "    macro avg       0.88      0.84      0.85       885\n",
      " weighted avg       0.88      0.88      0.87       885\n",
      "\n"
     ]
    },
    {
     "data": {
      "image/png": "[encoded data removed]",
      "text/plain": [
       "<Figure size 640x480 with 2 Axes>"
      ]
     },
     "metadata": {},
     "output_type": "display_data"
    }
   ],
   "source": [
    "# Ambil model terbaik dari tuning\n",
    "best_rf = grid_search.best_estimator_\n",
    "\n",
    "# Prediksi di data test\n",
    "y_pred_best = best_rf.predict(X_test)\n",
    "\n",
    "# Evaluasi numerik\n",
    "print(\"📍 Best Parameters:\", grid_search.best_params_)\n",
    "print(\"\\n📊 Evaluasi Model Random Forest (hasil tuning):\")\n",
    "print(f\"Accuracy: {accuracy_score(y_test, y_pred_best):.4f}\")\n",
    "print(\"Classification Report:\")\n",
    "print(classification_report(y_test, y_pred_best, target_names=[\"Tidak Dropout\", \"Dropout\"]))\n",
    "\n",
    "# Confusion Matrix\n",
    "cm = confusion_matrix(y_test, y_pred_best)\n",
    "disp = ConfusionMatrixDisplay(confusion_matrix=cm, display_labels=[\"Tidak Dropout\", \"Dropout\"])\n",
    "disp.plot(cmap=\"Blues\")\n",
    "plt.title(\"Confusion Matrix – Random Forest (Tuned)\")\n",
    "plt.show()\n"
   ]
  },
  {
   "cell_type": "markdown",
   "metadata": {},
   "source": [
    "### 5.2 Simpan Model Final & Struktur Input\n",
    "\n",
    "Agar model dapat digunakan kembali untuk deployment, prediksi manual, atau integrasi dengan aplikasi seperti dashboard Streamlit, model hasil tuning perlu disimpan dalam format `.pkl`.  \n",
    "Selain itu, kita juga simpan daftar fitur (`feature_names`) agar input prediksi nantinya tetap konsisten dengan urutan saat training.\n"
   ]
  },
  {
   "cell_type": "code",
   "execution_count": 29,
   "metadata": {},
   "outputs": [
    {
     "name": "stdout",
     "output_type": "stream",
     "text": [
      "✅ Model dan fitur berhasil disimpan!\n"
     ]
    }
   ],
   "source": [
    "# Simpan model hasil tuning\n",
    "joblib.dump(best_rf, \"best_random_forest.pkl\")\n",
    "\n",
    "# Simpan struktur urutan kolom fitur\n",
    "feature_names = X_train.columns.tolist()\n",
    "joblib.dump(feature_names, \"rf_feature_names.pkl\")\n",
    "\n",
    "print(\"✅ Model dan fitur berhasil disimpan!\")\n"
   ]
  },
  {
   "cell_type": "markdown",
   "metadata": {},
   "source": [
    "### 5.3 Visualisasi Proporsi Mahasiswa Berpotensi Dropout"
   ]
  },
  {
   "cell_type": "code",
   "execution_count": 34,
   "metadata": {},
   "outputs": [
    {
     "data": {
      "image/png": "[encoded data removed]",
      "text/plain": [
       "<Figure size 600x600 with 1 Axes>"
      ]
     },
     "metadata": {},
     "output_type": "display_data"
    }
   ],
   "source": [
    "# Ambil data mahasiswa aktif\n",
    "df_enrolled = df[df[\"Status\"] == \"Enrolled\"].copy()\n",
    "\n",
    "# Pastikan urutan kolom input sesuai saat training\n",
    "X_enrolled = df_enrolled[feature_names]\n",
    "\n",
    "# Prediksi batch terhadap mahasiswa aktif\n",
    "df_enrolled[\"Pred_Label\"] = best_rf.predict(X_enrolled)\n",
    "\n",
    "# Hitung proporsi\n",
    "counts = df_enrolled[\"Pred_Label\"].value_counts(normalize=True).sort_index()\n",
    "labels = [\"Tidak Dropout\", \"Dropout\"]\n",
    "colors = [\"#7FB3D5\", \"#E74C3C\"]\n",
    "\n",
    "# Visualisasi\n",
    "plt.figure(figsize=(6, 6))\n",
    "plt.pie(counts, labels=labels, autopct=\"%.2f%%\", startangle=90, colors=colors)\n",
    "plt.title(\"Distribusi Prediksi Mahasiswa Enrolled\")\n",
    "plt.tight_layout()\n",
    "plt.show()"
   ]
  },
  {
   "cell_type": "markdown",
   "metadata": {},
   "source": [
    "### 5.4 Interpretasi Feature Importance – Random Forest (Binary)\n",
    "\n",
    "Bagian ini bertujuan untuk mengidentifikasi fitur-fitur paling berpengaruh dalam model prediksi dropout.  \n",
    "Nilai _feature importance_ mencerminkan seberapa besar kontribusi relatif suatu fitur dalam menentukan hasil prediksi model Random Forest.\n",
    "\n",
    "Dengan informasi ini, institusi pendidikan dapat:\n",
    "- Mendeteksi mahasiswa berisiko lebih awal\n",
    "- Menyusun rekomendasi intervensi yang lebih tepat sasaran\n",
    "- Menyederhanakan model ke fitur-fitur paling signifikan\n",
    "\n",
    "Visualisasi bar chart akan menampilkan **10 fitur teratas** berdasarkan tingkat pengaruhnya dalam prediksi.\n"
   ]
  },
  {
   "cell_type": "code",
   "execution_count": 30,
   "metadata": {},
   "outputs": [
    {
     "name": "stdout",
     "output_type": "stream",
     "text": [
      "\n",
      "📊 Top 10 Fitur Terpenting dalam Prediksi Dropout:\n",
      "                                   Fitur  Importance\n",
      "26     Curricular_units_2nd_sem_approved    0.136721\n",
      "27        Curricular_units_2nd_sem_grade    0.124388\n",
      "20     Curricular_units_1st_sem_approved    0.095843\n",
      "12               Tuition_fees_up_to_date    0.073572\n",
      "21        Curricular_units_1st_sem_grade    0.069046\n",
      "15                     Age_at_enrollment    0.040707\n",
      "25  Curricular_units_2nd_sem_evaluations    0.035006\n",
      "19  Curricular_units_1st_sem_evaluations    0.029606\n",
      "8                        Admission_grade    0.029078\n",
      "5           Previous_qualification_grade    0.025058\n"
     ]
    },
    {
     "data": {
      "image/png": "[encoded data removed]",
      "text/plain": [
       "<Figure size 1000x600 with 1 Axes>"
      ]
     },
     "metadata": {},
     "output_type": "display_data"
    }
   ],
   "source": [
    "# Hitung feature importance\n",
    "feature_importances = best_rf.feature_importances_\n",
    "features = X_train.columns\n",
    "\n",
    "# Buat DataFrame\n",
    "importance_df = pd.DataFrame({\n",
    "    \"Fitur\": features,\n",
    "    \"Importance\": feature_importances\n",
    "}).sort_values(by=\"Importance\", ascending=False)\n",
    "\n",
    "# Tampilkan Top 10 Fitur Terpenting\n",
    "print(\"\\n📊 Top 10 Fitur Terpenting dalam Prediksi Dropout:\")\n",
    "print(importance_df.head(10))\n",
    "\n",
    "# Visualisasi\n",
    "plt.figure(figsize=(10, 6))\n",
    "plt.barh(importance_df[\"Fitur\"][:10][::-1], importance_df[\"Importance\"][:10][::-1], color=\"darkcyan\")\n",
    "plt.xlabel(\"Pentingnya Fitur\")\n",
    "plt.title(\"Top 10 Fitur Terpenting – Random Forest (Binary Classification)\")\n",
    "plt.tight_layout()\n",
    "plt.show()\n"
   ]
  },
  {
   "cell_type": "markdown",
   "metadata": {},
   "source": [
    "### Interpretasi:\n",
    "\n",
    "Berdasarkan grafik feature importance, fitur paling berpengaruh terhadap prediksi dropout adalah:\n",
    "\n",
    "1. **Curricular_units_2nd_sem_approved & grade**  \n",
    "   → Semakin sedikit mata kuliah yang disetujui atau nilai rendah di semester 2, semakin tinggi risiko dropout.\n",
    "\n",
    "2. **Curricular_units_1st_sem_approved & grade**  \n",
    "   → Semester pertama juga tetap kritikal sebagai fondasi awal akademik mahasiswa.\n",
    "\n",
    "3. **Tuition_fees_up_to_date**  \n",
    "   → Mahasiswa yang memiliki tunggakan cenderung memiliki risiko dropout lebih tinggi, mungkin karena tekanan finansial.\n",
    "\n",
    "4. **Evaluations (1st & 2nd semester)**  \n",
    "   → Banyaknya evaluasi bisa berkaitan dengan keaktifan mahasiswa atau jumlah mata kuliah yang diambil.\n",
    "\n",
    "5. **Admission_grade & Previous_qualification_grade**  \n",
    "   → Nilai masuk kampus dan nilai sebelumnya menunjukkan seberapa siap mahasiswa saat memulai perkuliahan.\n",
    "\n",
    "6. **Age_at_enrollment**  \n",
    "   → Bisa jadi mencerminkan tantangan non-akademik; misalnya mahasiswa yang lebih tua mungkin memiliki beban tambahan seperti pekerjaan atau keluarga.\n",
    "\n",
    "Kesimpulannya, kombinasi antara **kinerja akademik awal, kondisi keuangan, dan kesiapan awal mahasiswa** adalah sinyal dropout paling kuat menurut model.\n"
   ]
  },
  {
   "cell_type": "markdown",
   "metadata": {},
   "source": [
    "## 6. Kesimpulan\n",
    "\n",
    "Model prediksi dropout yang dibangun menggunakan Random Forest dengan pendekatan klasifikasi biner berhasil mencapai performa yang sangat baik:\n",
    "\n",
    "- **Akurasi**: 87.68%\n",
    "- **Recall untuk kelas Dropout**: 72%\n",
    "- **F1-score Dropout**: 0.79\n",
    "- **Fitur-fitur terpenting**:\n",
    "  - Nilai & jumlah MK disetujui di semester 1 & 2\n",
    "  - Status pembayaran biaya kuliah\n",
    "  - Nilai masuk dan kesiapan akademik awal\n",
    "\n",
    "Model ini tidak hanya memberikan prediksi yang akurat, tetapi juga mengungkap **indikator utama risiko dropout**, yang bisa dijadikan dasar strategi intervensi.\n",
    "\n",
    "Seluruh pipeline juga telah disiapkan untuk digunakan ulang, baik dalam format file `.pkl` untuk deployment maupun dataset `.csv` untuk analisis lanjutan.\n",
    "\n",
    "> Fokus ke mahasiswa aktif (Enrolled) dan deteksi dini dropout adalah langkah konkret menuju sistem pendidikan yang lebih adaptif, suportif, dan data-driven.\n",
    "\n"
   ]
  }
 ],
 "metadata": {
  "kernelspec": {
   "display_name": ".venv",
   "language": "python",
   "name": "python3"
  },
  "language_info": {
   "codemirror_mode": {
    "name": "ipython",
    "version": 3
   },
   "file_extension": ".py",
   "mimetype": "text/x-python",
   "name": "python",
   "nbconvert_exporter": "python",
   "pygments_lexer": "ipython3",
   "version": "3.11.0"
  }
 },
 "nbformat": 4,
 "nbformat_minor": 2
}
