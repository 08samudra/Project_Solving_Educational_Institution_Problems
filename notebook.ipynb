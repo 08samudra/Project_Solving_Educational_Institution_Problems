{
 "cells": [
  {
   "cell_type": "markdown",
   "metadata": {},
   "source": [
    "# Proyek Akhir: Menyelesaikan Permasalahan Perusahaan Edutech"
   ]
  },
  {
   "cell_type": "markdown",
   "metadata": {},
   "source": [
    "- Nama: Yoga Samudra\n",
    "- Email: 08samudra@gmail.com\n",
    "- Id Dicoding: 08samudra"
   ]
  },
  {
   "cell_type": "markdown",
   "metadata": {},
   "source": [
    "## 1. Persiapan"
   ]
  },
  {
   "cell_type": "markdown",
   "metadata": {},
   "source": [
    "### 1.1 Menyiapkan library yang dibutuhkan"
   ]
  },
  {
   "cell_type": "code",
   "execution_count": null,
   "metadata": {},
   "outputs": [],
   "source": [
    "import pandas as pd\n",
    "import numpy as np\n",
    "import matplotlib.pyplot as plt\n",
    "import seaborn as sns\n",
    "import sklearn\n",
    "from sklearn.model_selection import train_test_split\n",
    "from sklearn.preprocessing import StandardScaler, OneHotEncoder\n",
    "from sklearn.ensemble import RandomForestClassifier\n",
    "from sklearn.metrics import accuracy_score, classification_report"
   ]
  },
  {
   "cell_type": "markdown",
   "metadata": {},
   "source": [
    "### 1.2 Menyiapkan data yang akan diguankan"
   ]
  },
  {
   "cell_type": "code",
   "execution_count": null,
   "metadata": {},
   "outputs": [],
   "source": [
    "# Load dataset\n",
    "file_path = \"datasets/data.csv\"\n",
    "df = pd.read_csv(file_path, delimiter=';')\n",
    "\n",
    "# Menampilkan informasi dasar tentang dataset\n",
    "print(\"Dimensi Data:\", df.shape)\n",
    "print(\"\\nInfo Dataset:\")\n",
    "print(df.info())\n",
    "\n",
    "# Melihat beberapa data pertama\n",
    "print(\"\\nPreview Data:\")\n",
    "print(df.head())"
   ]
  },
  {
   "cell_type": "markdown",
   "metadata": {},
   "source": [
    "#### **Struktur Dataset**\n",
    "Dataset memiliki beberapa variabel yang dapat dikategorikan sebagai berikut:\n",
    "\n",
    "##### **1. Informasi Demografi**\n",
    "- `Marital_status` : Status pernikahan mahasiswa *(1 - single, 2 - married, dst.)*\n",
    "- `Nationality` : Kewarganegaraan mahasiswa *(1 - Portuguese, 2 - German, dst.)*\n",
    "- `Gender` : Jenis kelamin mahasiswa *(1 - male, 0 - female)*\n",
    "- `Age_at_enrollment` : Usia mahasiswa saat mendaftar *(Numerik)*\n",
    "- `Displaced` : Apakah mahasiswa merupakan orang yang terdampak *(1 - yes, 0 - no)*\n",
    "\n",
    "##### **2. Informasi Akademik**\n",
    "- `Application_mode` : Metode pendaftaran yang digunakan *(1 - 1st phase - general contingent, dst.)*\n",
    "- `Application_order` : Urutan aplikasi pendaftaran mahasiswa *(0 - pertama pilihan, 9 - pilihan terakhir)*\n",
    "- `Previous_qualification` : Pendidikan sebelumnya *(1 - Secondary education, dst.)*\n",
    "- `Previous_qualification_grade` : Nilai pendidikan sebelumnya *(Skala 0 - 200)*\n",
    "- `Admission_grade` : Nilai penerimaan mahasiswa *(Skala 0 - 200)*\n",
    "- `Course` : Jurusan yang diambil mahasiswa *(33 - Biofuel Production Technologies, dst.)*\n",
    "- `Daytime_evening_attendance` : Kelas pagi atau malam *(1 - daytime, 0 - evening)*\n",
    "- `Educational_special_needs` : Apakah mahasiswa memiliki kebutuhan khusus *(1 - yes, 0 - no)*\n",
    "\n",
    "##### **3. Informasi Ekonomi dan Sosial**\n",
    "- `Mothers_qualification` & `Fathers_qualification` : Pendidikan orang tua *(1 - Secondary Education, dst.)*\n",
    "- `Mothers_occupation` & `Fathers_occupation` : Pekerjaan orang tua *(0 - Student, dst.)*\n",
    "- `Debtor` : Apakah mahasiswa memiliki tunggakan *(1 - yes, 0 - no)*\n",
    "- `Tuition_fees_up_to_date` : Apakah pembayaran kuliah mahasiswa lancar *(1 - yes, 0 - no)*\n",
    "- `Scholarship_holder` : Apakah mahasiswa mendapatkan beasiswa *(1 - yes, 0 - no)*\n",
    "\n",
    "##### **4. Informasi Akademik Semesteran**\n",
    "- `Curricular_units_1st_sem_credited`, `Curricular_units_1st_sem_enrolled`, `Curricular_units_1st_sem_evaluations`, `Curricular_units_1st_sem_approved`, `Curricular_units_1st_sem_grade`, `Curricular_units_1st_sem_without_evaluations`\n",
    "- `Curricular_units_2nd_sem_credited`, `Curricular_units_2nd_sem_enrolled`, `Curricular_units_2nd_sem_evaluations`, `Curricular_units_2nd_sem_approved`, `Curricular_units_2nd_sem_grade`, `Curricular_units_2nd_sem_without_evaluations`\n",
    "\n",
    "##### **5. Indikator Ekonomi**\n",
    "- `Unemployment_rate` : Tingkat pengangguran di wilayah mahasiswa *(Persentase)*\n",
    "- `Inflation_rate` : Tingkat inflasi ekonomi saat mahasiswa mendaftar *(Persentase)*\n",
    "- `GDP` : Produk Domestik Bruto sebagai indikator ekonomi *(Numerik)*\n",
    "\n",
    "##### **6. Target Variabel**\n",
    "- `Status` : Status akhir mahasiswa *(Dropout, Enrolled, atau Graduate)*\n",
    "\n",
    "---"
   ]
  },
  {
   "cell_type": "markdown",
   "metadata": {},
   "source": [
    "### 1.3 Penanganan *Missing Values* dan Data Duplikat"
   ]
  },
  {
   "cell_type": "markdown",
   "metadata": {},
   "source": [
    "Cek *Missing Values*"
   ]
  },
  {
   "cell_type": "code",
   "execution_count": null,
   "metadata": {},
   "outputs": [],
   "source": [
    "# Mengecek missing values\n",
    "print(df.isnull().sum())"
   ]
  },
  {
   "cell_type": "markdown",
   "metadata": {},
   "source": [
    "Hasil cek dari *missing values* adalah 0"
   ]
  },
  {
   "cell_type": "markdown",
   "metadata": {},
   "source": [
    "Cek Data Duplikat"
   ]
  },
  {
   "cell_type": "code",
   "execution_count": null,
   "metadata": {},
   "outputs": [],
   "source": [
    "# Mengecek jumlah data duplikat\n",
    "print(\"Jumlah Data Duplikat:\", df.duplicated().sum())"
   ]
  },
  {
   "cell_type": "markdown",
   "metadata": {},
   "source": [
    "Hasil cek dari data duplikat adalah 0"
   ]
  },
  {
   "cell_type": "markdown",
   "metadata": {},
   "source": [
    "## Data Understanding"
   ]
  },
  {
   "cell_type": "markdown",
   "metadata": {},
   "source": [
    "### 2.1 Statistik Deskriptif\n"
   ]
  },
  {
   "cell_type": "markdown",
   "metadata": {},
   "source": [
    "Memeriksa distribusi data numerik dan kategorikal"
   ]
  },
  {
   "cell_type": "code",
   "execution_count": null,
   "metadata": {},
   "outputs": [],
   "source": [
    "# Statistik deskriptif untuk data numerik\n",
    "stats_numerik = df.describe().T\n",
    "\n",
    "text_stats_numerik = \"\\n📊 **Statistik Deskriptif untuk Data Numerik:**\\n\"\n",
    "for col in stats_numerik.index:\n",
    "    text_stats_numerik += f\"- {col}: Min = {stats_numerik.loc[col, 'min']}, Max = {stats_numerik.loc[col, 'max']}, Mean = {stats_numerik.loc[col, 'mean']:.2f}, Std = {stats_numerik.loc[col, 'std']:.2f}\\n\"\n",
    "\n",
    "# Statistik deskriptif untuk data kategorikal\n",
    "stats_kategorikal = df.select_dtypes(include=['object']).describe().T\n",
    "\n",
    "text_stats_kategorikal = \"\\n📊 **Statistik Deskriptif untuk Data Kategorikal:**\\n\"\n",
    "for col in stats_kategorikal.index:\n",
    "    text_stats_kategorikal += f\"- {col}: Jumlah Unik = {stats_kategorikal.loc[col, 'unique']}, Nilai Paling Sering = {stats_kategorikal.loc[col, 'top']} ({stats_kategorikal.loc[col, 'freq']} kali muncul)\\n\"\n",
    "\n",
    "# Gabungkan teks\n",
    "text_stats = text_stats_numerik + text_stats_kategorikal\n",
    "print(text_stats)"
   ]
  },
  {
   "cell_type": "markdown",
   "metadata": {},
   "source": [
    "### 2.2 Distribusi *Status* (Dropout, Enrolled, Graduate)"
   ]
  },
  {
   "cell_type": "markdown",
   "metadata": {},
   "source": [
    "Melihat pola dropout."
   ]
  },
  {
   "cell_type": "code",
   "execution_count": null,
   "metadata": {},
   "outputs": [],
   "source": [
    "# Distribusi Status Mahasiswa\n",
    "sns.countplot(x='Status', data=df)\n",
    "plt.title('Distribusi Status Mahasiswa')\n",
    "plt.show()"
   ]
  },
  {
   "cell_type": "markdown",
   "metadata": {},
   "source": [
    "### 2.3 Distribusi Fitur-Fitur Utama"
   ]
  },
  {
   "cell_type": "markdown",
   "metadata": {},
   "source": [
    "Distribusi Nilai Admission Grade Berdasarkan Status"
   ]
  },
  {
   "cell_type": "code",
   "execution_count": null,
   "metadata": {},
   "outputs": [],
   "source": [
    "sns.boxplot(x='Status', y='Admission_grade', data=df)\n",
    "plt.title('Distribusi Admission Grade Berdasarkan Status Mahasiswa')\n",
    "plt.show()"
   ]
  },
  {
   "cell_type": "markdown",
   "metadata": {},
   "source": [
    "Distribusi Usia Saat Pendaftaran"
   ]
  },
  {
   "cell_type": "code",
   "execution_count": null,
   "metadata": {},
   "outputs": [],
   "source": [
    "sns.histplot(df['Age_at_enrollment'], bins=20, kde=True)\n",
    "plt.title('Distribusi Usia Saat Pendaftaran Mahasiswa')\n",
    "plt.xlabel('Usia')\n",
    "plt.ylabel('Jumlah Mahasiswa')\n",
    "plt.show()"
   ]
  },
  {
   "cell_type": "markdown",
   "metadata": {},
   "source": [
    "Analisis Pengaruh Beasiswa Terhadap Dropout"
   ]
  },
  {
   "cell_type": "code",
   "execution_count": null,
   "metadata": {},
   "outputs": [],
   "source": [
    "sns.countplot(x='Status', hue='Scholarship_holder', data=df)\n",
    "plt.title('Pengaruh Beasiswa terhadap Status Mahasiswa')\n",
    "plt.xlabel('Status')\n",
    "plt.ylabel('Jumlah Mahasiswa')\n",
    "plt.legend(['Tanpa Beasiswa', 'Penerima Beasiswa'])\n",
    "plt.show()"
   ]
  },
  {
   "cell_type": "markdown",
   "metadata": {},
   "source": [
    "## Data Preparation / Preprocessing"
   ]
  },
  {
   "cell_type": "code",
   "execution_count": null,
   "metadata": {},
   "outputs": [],
   "source": []
  },
  {
   "cell_type": "markdown",
   "metadata": {},
   "source": [
    "## Modeling"
   ]
  },
  {
   "cell_type": "code",
   "execution_count": null,
   "metadata": {},
   "outputs": [],
   "source": []
  },
  {
   "cell_type": "markdown",
   "metadata": {},
   "source": [
    "## Evaluation"
   ]
  },
  {
   "cell_type": "code",
   "execution_count": null,
   "metadata": {},
   "outputs": [],
   "source": []
  }
 ],
 "metadata": {
  "kernelspec": {
   "display_name": ".venv",
   "language": "python",
   "name": "python3"
  },
  "language_info": {
   "codemirror_mode": {
    "name": "ipython",
    "version": 3
   },
   "file_extension": ".py",
   "mimetype": "text/x-python",
   "name": "python",
   "nbconvert_exporter": "python",
   "pygments_lexer": "ipython3",
   "version": "3.11.0"
  }
 },
 "nbformat": 4,
 "nbformat_minor": 2
}
